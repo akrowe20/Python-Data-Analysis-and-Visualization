{
 "cells": [
  {
   "cell_type": "markdown",
   "id": "f7cc0633-6753-4e80-9c97-2450d4ea867f",
   "metadata": {},
   "source": [
    "# Introduction to Python\n",
    "\n",
    "\n",
    "Adapted from Data Carpentry's material: \n",
    "https://datacarpentry.github.io/python-ecology-lesson/01-short-introduction-to-Python.html\n",
    "\n",
    "[Accompanying slides](https://docs.google.com/presentation/d/1GY0vxYzNeOJjakMkR2Qi09-rHIomQXoA9y3Do35uWP0/edit?usp=drive_link) "
   ]
  },
  {
   "cell_type": "markdown",
   "id": "11b98413-5831-4641-b29e-821ccd540fc3",
   "metadata": {},
   "source": [
    "## Creating Variables"
   ]
  },
  {
   "cell_type": "code",
   "execution_count": null,
   "id": "69a7cabb-b1c9-460f-ad94-92b9dd704ac8",
   "metadata": {
    "tags": []
   },
   "outputs": [],
   "source": [
    "# Create a string variable\n",
    "text = \"foo\""
   ]
  },
  {
   "cell_type": "code",
   "execution_count": null,
   "id": "ead8c248-e12a-4f4f-8af5-ecba3506e2b4",
   "metadata": {
    "tags": []
   },
   "outputs": [],
   "source": [
    "# Create an integer variable\n",
    "number = 42"
   ]
  },
  {
   "cell_type": "code",
   "execution_count": null,
   "id": "d547cdab-e350-4a60-b833-e982b2064687",
   "metadata": {
    "tags": []
   },
   "outputs": [],
   "source": [
    "# Create a float variable\n",
    "pi_value=3.1415"
   ]
  },
  {
   "cell_type": "markdown",
   "id": "06fe370e-519a-44f1-92b6-fa26b271f9c9",
   "metadata": {
    "tags": []
   },
   "source": [
    "## Returning Variables"
   ]
  },
  {
   "cell_type": "code",
   "execution_count": null,
   "id": "a0810236-5eaa-46e0-8203-8537dcc22b5a",
   "metadata": {
    "tags": []
   },
   "outputs": [],
   "source": [
    "# Use the built-in print function\n",
    "print(text)"
   ]
  },
  {
   "cell_type": "code",
   "execution_count": null,
   "id": "1aac1ab5-1117-41e3-9305-5fae903e4c12",
   "metadata": {
    "tags": []
   },
   "outputs": [],
   "source": [
    "print(number)"
   ]
  },
  {
   "cell_type": "code",
   "execution_count": null,
   "id": "715f5f4a-013e-45be-9f8d-a8b4b3bb0a9e",
   "metadata": {
    "tags": []
   },
   "outputs": [],
   "source": [
    "pi_value"
   ]
  },
  {
   "cell_type": "markdown",
   "id": "02e0ba47",
   "metadata": {
    "tags": []
   },
   "source": [
    "## Checking a Python Data Type"
   ]
  },
  {
   "cell_type": "code",
   "execution_count": null,
   "id": "45e9e891-3827-4c7c-a2a4-2b73aac6d5b2",
   "metadata": {
    "tags": []
   },
   "outputs": [],
   "source": [
    "type(text)"
   ]
  },
  {
   "cell_type": "code",
   "execution_count": null,
   "id": "bcabe478-c3b5-4ddc-8384-64a89b39fa37",
   "metadata": {
    "tags": []
   },
   "outputs": [],
   "source": [
    "type(number)"
   ]
  },
  {
   "cell_type": "code",
   "execution_count": null,
   "id": "d8482ba8-0f1d-4bba-adbb-0f3ec7065083",
   "metadata": {
    "tags": []
   },
   "outputs": [],
   "source": [
    "type (10) # An example of a int \n",
    "type(10.0) # An example of a float \n",
    "type('10.0') # An example of str"
   ]
  },
  {
   "cell_type": "code",
   "execution_count": null,
   "id": "e148830c-f992-42be-951e-0cf8919cc5a2",
   "metadata": {
    "tags": []
   },
   "outputs": [],
   "source": [
    "# Adding variables\n",
    "type(10+10) \n",
    "type(10+10.0) \n",
    "type(10*10.0) \n",
    "type(10+'10.0') \n",
    "type('10.0'+'10') \n",
    "#print('10.0'+'10'）"
   ]
  },
  {
   "cell_type": "markdown",
   "id": "866e0d58",
   "metadata": {
    "tags": []
   },
   "source": [
    "## Experimenting with Operators"
   ]
  },
  {
   "cell_type": "code",
   "execution_count": null,
   "id": "55def2db-4b28-4ae1-b1c0-5c4232f6c27f",
   "metadata": {},
   "outputs": [],
   "source": [
    "6 * 7  # Multiplication \n",
    "2 ** 16  # Power \n",
    "13 % 5  # Modulo \n",
    "3 > 4 \n",
    "True and True \n",
    "True or False \n",
    "True == False # compare to values"
   ]
  },
  {
   "cell_type": "markdown",
   "id": "64de3d65",
   "metadata": {},
   "source": [
    "## Sequences"
   ]
  },
  {
   "cell_type": "markdown",
   "id": "12651892",
   "metadata": {
    "tags": []
   },
   "source": [
    "### Lists"
   ]
  },
  {
   "cell_type": "code",
   "execution_count": null,
   "id": "7ba26f0a-8505-427f-8b89-a63824469377",
   "metadata": {
    "tags": []
   },
   "outputs": [],
   "source": [
    "numbers = [1, 2, 3]"
   ]
  },
  {
   "cell_type": "code",
   "execution_count": null,
   "id": "99753e86-1d4c-48fb-b11d-6d25ad5b2277",
   "metadata": {
    "tags": []
   },
   "outputs": [],
   "source": [
    "# print the first value\n",
    "numbers[0]"
   ]
  },
  {
   "cell_type": "code",
   "execution_count": null,
   "id": "b432fb8e-eac5-49e6-be6e-2de7809f31b0",
   "metadata": {
    "tags": []
   },
   "outputs": [],
   "source": [
    "# print the last value\n",
    "print(numbers[2])\n",
    "numbers[-1]"
   ]
  },
  {
   "cell_type": "code",
   "execution_count": null,
   "id": "c9727c51-27ee-45bf-8c4a-3844daa2f640",
   "metadata": {
    "tags": []
   },
   "outputs": [],
   "source": [
    "# looping over a list\n",
    "for num in numbers:\n",
    "    print(num)"
   ]
  },
  {
   "cell_type": "code",
   "execution_count": null,
   "id": "2ab1b465-1741-44cc-8026-4fe4332ac136",
   "metadata": {
    "tags": []
   },
   "outputs": [],
   "source": [
    "# Add element to list \n",
    "numbers.append(4) \n",
    "print (numbers)"
   ]
  },
  {
   "cell_type": "code",
   "execution_count": null,
   "id": "bc2dc2fe-b25a-4c63-ad97-1fb971069324",
   "metadata": {
    "tags": []
   },
   "outputs": [],
   "source": [
    "# list can contain different data types\n",
    "values = ['foo','bar', 1]"
   ]
  },
  {
   "cell_type": "code",
   "execution_count": null,
   "id": "e5184c8a-09e1-4e6f-9c1d-f81f323c35f0",
   "metadata": {
    "tags": []
   },
   "outputs": [],
   "source": [
    "# get the id of a list item\n",
    "for idx, val in enumerate(values): \n",
    "    print(str(idx)+\"=\"+val)"
   ]
  },
  {
   "cell_type": "markdown",
   "id": "c55199ba",
   "metadata": {
    "tags": []
   },
   "source": [
    "### Tuples"
   ]
  },
  {
   "cell_type": "code",
   "execution_count": null,
   "id": "6c17432c-3217-4f1f-a05e-26baf6bb4fb8",
   "metadata": {
    "tags": []
   },
   "outputs": [],
   "source": [
    "# Tuples use parentheses \n",
    "a_tuple = (1 , 2, 3) \n",
    "another_tuple = ( 'blue' , 'green' , 'red')"
   ]
  },
  {
   "cell_type": "markdown",
   "id": "b2e83924",
   "metadata": {
    "tags": []
   },
   "source": [
    "### Dictionaries"
   ]
  },
  {
   "cell_type": "code",
   "execution_count": null,
   "id": "cc15fb04-285c-4a9f-bcf7-e26612d8160b",
   "metadata": {
    "tags": []
   },
   "outputs": [],
   "source": [
    "translation = { 'one' : 'first', 'two' : 'second'}\n",
    "print (translation[ 'one' ])"
   ]
  },
  {
   "cell_type": "markdown",
   "id": "fef4e9c5-5d91-4a6d-960d-b7cf9370159f",
   "metadata": {},
   "source": [
    "## Exercise: Experiment with object types\n",
    "Create one of the following: \n",
    "* list \n",
    "* tuple \n",
    "* dictionary \n",
    "\n",
    "Print the first value from each\n",
    "\n",
    "\n",
    "Bonus: \n",
    "* Print the last value in each \n",
    "* Loop through each and print all values"
   ]
  },
  {
   "cell_type": "markdown",
   "id": "932fbe73",
   "metadata": {},
   "source": [
    "## Functions\n",
    "Always start with:\n",
    "\n",
    "def function_name(one or more variables):\n",
    "\n",
    "\n",
    "    An indented line indicating that it's part of the code block"
   ]
  },
  {
   "cell_type": "code",
   "execution_count": null,
   "id": "f8253a29-006f-4b4f-84eb-1f01ac078ea6",
   "metadata": {
    "tags": []
   },
   "outputs": [],
   "source": [
    "# example function that takes two arguments and returns the first plus the second \n",
    "def add_function(a, b): \n",
    "    result = a + b \n",
    "    return result \n",
    "z = add_function(5,10)\n",
    "print (z)"
   ]
  },
  {
   "cell_type": "code",
   "execution_count": null,
   "id": "deb6a54e-4d28-4316-b3ee-afd7462b636b",
   "metadata": {
    "tags": []
   },
   "outputs": [],
   "source": [
    "help(object)"
   ]
  },
  {
   "cell_type": "markdown",
   "id": "2ca6e773-9216-43a4-96e5-248b69728b66",
   "metadata": {},
   "source": [
    "## If then Else"
   ]
  },
  {
   "cell_type": "code",
   "execution_count": null,
   "id": "b6c3e3be-7a23-4b66-9918-39b968b5b3bd",
   "metadata": {
    "tags": []
   },
   "outputs": [],
   "source": [
    "# Test a single condition \n",
    "a = 5 \n",
    "if a == 5: \n",
    "    print( 'A equals 5')"
   ]
  },
  {
   "cell_type": "code",
   "execution_count": null,
   "id": "36102fde-b029-476c-b82d-6f8798abccb9",
   "metadata": {
    "tags": []
   },
   "outputs": [],
   "source": [
    "# If the outcome of the logical operator is not what we tested for we can use the if-then-else construct\n",
    "a = 6 \n",
    "if a == 5: \n",
    "    print( 'A equals 5') \n",
    "else: \n",
    "    print( 'A is not equal to 5') \n",
    "\n",
    "# use 'elif' after 'if' when you'd like to test for more conditions "
   ]
  },
  {
   "cell_type": "markdown",
   "id": "0e9afd59-d116-4e25-bba3-357be508d863",
   "metadata": {},
   "source": [
    "## Nested Statements and Loops"
   ]
  },
  {
   "cell_type": "code",
   "execution_count": null,
   "id": "ddab984d-12e9-485c-ba51-f572d142401f",
   "metadata": {
    "tags": []
   },
   "outputs": [],
   "source": [
    "a = 'foo' \n",
    "b = 'bar' \n",
    "if a == 'foo':    \n",
    "    if b == 'bar':        \n",
    "        print('OK this is cool!')    \n",
    "    else:        \n",
    "        print('All foo no bar')"
   ]
  },
  {
   "cell_type": "markdown",
   "id": "e689c8a5-75f7-4a11-9e3f-6c29e1af2e09",
   "metadata": {},
   "source": [
    "### And - Or - Not"
   ]
  },
  {
   "cell_type": "code",
   "execution_count": null,
   "id": "3b96100c-022c-4c05-b36a-12654dbc306c",
   "metadata": {
    "tags": []
   },
   "outputs": [],
   "source": [
    "# We can make our conditions more powerful by using the keywords and, or, or not \n",
    "a = 7 \n",
    "if a > 5 and a < 10: \n",
    "    print( 'A is between 5 and 10') \n",
    "    \n",
    "a = 15\n",
    "b = 5\n",
    "c = 20 \n",
    "if a > b or a < c: \n",
    "    print(f'A is between {b} and {c }') \n",
    "\n",
    "a = 5\n",
    "b = 10 \n",
    "if not a > b: \n",
    "    print( 'A is not greater than B')"
   ]
  },
  {
   "cell_type": "markdown",
   "id": "93d9c526-ee02-4419-836c-1d49609f74bf",
   "metadata": {},
   "source": [
    "## Shorthanded methods - making things more Pythonic\n",
    "Best to focus on code readability"
   ]
  },
  {
   "cell_type": "code",
   "execution_count": null,
   "id": "d78273d2-8f3d-43df-aed7-2209e053caee",
   "metadata": {
    "tags": []
   },
   "outputs": [],
   "source": [
    "a = 5 \n",
    "if a != 10: print( 'A is not 10')"
   ]
  },
  {
   "cell_type": "code",
   "execution_count": null,
   "id": "d6e69178-8d0a-443a-b9b6-b57ef8276035",
   "metadata": {
    "tags": []
   },
   "outputs": [],
   "source": [
    "a = 5\n",
    "b = 10 \n",
    "print('A') if not a < b else print( 'B')"
   ]
  },
  {
   "cell_type": "markdown",
   "id": "2e738e3f-0625-4c14-9e1d-735b51067e32",
   "metadata": {
    "tags": []
   },
   "source": [
    "### Nested, breaking and shorthanding loops"
   ]
  },
  {
   "cell_type": "code",
   "execution_count": null,
   "id": "de30c6ba-fed4-424b-b174-af4be8fe61fd",
   "metadata": {
    "tags": []
   },
   "outputs": [],
   "source": [
    "for i in range(4):    \n",
    "    print(f'\\n') \n",
    "    for j in range(3): \n",
    "        print(f'i = {i}     j = {j}') \n",
    "        "
   ]
  },
  {
   "cell_type": "code",
   "execution_count": null,
   "id": "fd62610f-ecf6-4b0b-9a80-b68b187aeb05",
   "metadata": {},
   "outputs": [],
   "source": [
    "states = ['Colorado', 'Florida', 'Hawaii', 'California', 'Alaska'] \n",
    "\n",
    "for state in states:    \n",
    "    if state == 'Colorado': \n",
    "        break    \n",
    "    print(state) \n"
   ]
  },
  {
   "cell_type": "code",
   "execution_count": null,
   "id": "4af3e9e0-1393-4b84-9a4c-cb9d88bae3bd",
   "metadata": {
    "tags": []
   },
   "outputs": [],
   "source": [
    "mylist = [1, 'One', 'Two', 2, 'three', 3.14] \n",
    "for x in mylist: print(x)"
   ]
  }
 ],
 "metadata": {
  "kernelspec": {
   "display_name": "Python 3 (ipykernel)",
   "language": "python",
   "name": "python3"
  },
  "language_info": {
   "codemirror_mode": {
    "name": "ipython",
    "version": 3
   },
   "file_extension": ".py",
   "mimetype": "text/x-python",
   "name": "python",
   "nbconvert_exporter": "python",
   "pygments_lexer": "ipython3",
   "version": "3.11.5"
  }
 },
 "nbformat": 4,
 "nbformat_minor": 5
}

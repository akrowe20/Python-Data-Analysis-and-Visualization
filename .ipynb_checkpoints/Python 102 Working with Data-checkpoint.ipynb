{
 "cells": [
  {
   "cell_type": "markdown",
   "id": "a13b6d8f-de9d-460f-a69c-2193aea0ce12",
   "metadata": {},
   "source": [
    "# Python Working with data\n",
    "\n",
    "Data download:\n",
    "https://figshare.com/ndownloader/articles/1314459/versions/10\n",
    "\n",
    "Adapted from Data Carpentry's material: \n",
    "https://datacarpentry.org/python-ecology-lesson/02-starting-with-data.html\n",
    "\n",
    "[Accompanying slides](https://docs.google.com/presentation/d/1ii8DKPjMA6krTikfbem7NLjA9XxeCf3e4rwD2N-yyKY/edit?usp=drive_link) "
   ]
  },
  {
   "cell_type": "code",
   "execution_count": null,
   "id": "9af7971e-3496-4493-b644-76db7a11d93b",
   "metadata": {
    "tags": []
   },
   "outputs": [],
   "source": [
    "# Import in a library to work with tabular data\n",
    "import pandas as pd"
   ]
  },
  {
   "cell_type": "code",
   "execution_count": null,
   "id": "1ea70627-6099-4b8b-b876-42a2d8c2c1cd",
   "metadata": {
    "tags": []
   },
   "outputs": [],
   "source": [
    "# Load our data \n",
    "surveys_df = pd.read_csv(\"data/surveys.csv\")\n",
    "# About the data: https://datacarpentry.github.io/python-ecology-lesson/02-starting-with-data.html#our-data\n",
    "# Note that 'pd' is used because we imported pandas as 'pd'"
   ]
  },
  {
   "cell_type": "code",
   "execution_count": null,
   "id": "d0745dc7-bc36-4981-a56b-270f30f131e4",
   "metadata": {
    "tags": []
   },
   "outputs": [],
   "source": [
    "# Checking data types\n",
    "type(surveys_df)\n",
    "surveys_df.dtypes\n",
    "surveys_df['sex'].dtype\n",
    "surveys_df['record_id'].dtype"
   ]
  },
  {
   "cell_type": "code",
   "execution_count": null,
   "id": "a8787c84-42ef-4613-84c5-7f20e3e728f7",
   "metadata": {
    "tags": []
   },
   "outputs": [],
   "source": [
    "# Convert data type\n",
    "surveys_df['record_id'] = surveys_df['record_id'].astype('float64')\n",
    "surveys_df['record_id'].dtype\n",
    "surveys_df['plot_id'].dtype\n",
    "surveys_df.plot_id=surveys_df.plot_id.astype( \"float\")\n",
    "surveys_df['plot_id'].dtype"
   ]
  },
  {
   "cell_type": "code",
   "execution_count": null,
   "id": "20279590-8870-4b03-8be0-52ad22eb576b",
   "metadata": {
    "tags": []
   },
   "outputs": [],
   "source": [
    "# Remove rows that contain missing data\n",
    "df_na = surveys_df.dropna()\n",
    "df_na\n",
    "df_na.to_csv('data/surveys_complete.csv', index= False)"
   ]
  },
  {
   "cell_type": "markdown",
   "id": "450b0b2a-b6b2-48b8-ac60-4e3a9737f82d",
   "metadata": {
    "tags": []
   },
   "source": [
    "### Determining object property and method responses"
   ]
  },
  {
   "cell_type": "code",
   "execution_count": null,
   "id": "bbf5cdb2-7dc2-4b82-8643-0fa6d86567ad",
   "metadata": {
    "tags": []
   },
   "outputs": [],
   "source": [
    "surveys_df.head() # The head() method displays the first several lines of a file."
   ]
  },
  {
   "cell_type": "code",
   "execution_count": null,
   "id": "5ff6de3c-e10b-4e34-9aea-9bbfec954a9c",
   "metadata": {
    "tags": []
   },
   "outputs": [],
   "source": [
    "surveys_df.columns # Look at the column names"
   ]
  },
  {
   "cell_type": "code",
   "execution_count": null,
   "id": "3f2ba43f-0477-4ae3-bc72-76159a5581c4",
   "metadata": {
    "tags": []
   },
   "outputs": [],
   "source": [
    "surveys_df.shape # Look at the number of rows and columns"
   ]
  },
  {
   "cell_type": "code",
   "execution_count": null,
   "id": "5b5e635d-29be-4d81-9cae-3169da850919",
   "metadata": {
    "tags": []
   },
   "outputs": [],
   "source": [
    "surveys_df.count() # the number of values in each column"
   ]
  },
  {
   "cell_type": "markdown",
   "id": "07bf852c-2cb3-4e75-8ab2-23de3b1ab3e3",
   "metadata": {},
   "source": [
    "## Statistics From Data"
   ]
  },
  {
   "cell_type": "code",
   "execution_count": null,
   "id": "c96431b3-1731-4134-b19d-194bec9e7f64",
   "metadata": {
    "tags": []
   },
   "outputs": [],
   "source": [
    "surveys_df.columns # Look at the column names\n",
    "pd.unique(surveys_df['species_id']) # get unique values from a column"
   ]
  },
  {
   "cell_type": "code",
   "execution_count": null,
   "id": "7adef3f4-9e72-45a9-a9ce-281f1f26f4b6",
   "metadata": {
    "tags": []
   },
   "outputs": [],
   "source": [
    "#Describe - to get all the stats\n",
    "surveys_df['weight'].describe()"
   ]
  },
  {
   "cell_type": "code",
   "execution_count": null,
   "id": "bafa5680-752e-47a1-b022-4d12c934ec46",
   "metadata": {
    "tags": []
   },
   "outputs": [],
   "source": [
    "# Call each specifically\n",
    "surveys_df['weight'].min() \n",
    "#or ...max() or ...mean() or ...std() or ...count()"
   ]
  },
  {
   "cell_type": "markdown",
   "id": "5abf1e89-af99-4e52-9911-cd57de30af25",
   "metadata": {},
   "source": [
    "### Group By\n",
    "\n",
    "* Summarize by one or more variables\n",
    "* Creates a new dataframe"
   ]
  },
  {
   "cell_type": "code",
   "execution_count": null,
   "id": "1b419410-b4da-4e5c-903e-beadb263e7d3",
   "metadata": {
    "tags": []
   },
   "outputs": [],
   "source": [
    "# Group data by sex\n",
    "grouped_data = surveys_df.groupby('sex')\n",
    "grouped_data"
   ]
  },
  {
   "cell_type": "markdown",
   "id": "ca7b4f10-2806-431a-bd37-7780fcdc3398",
   "metadata": {},
   "source": [
    "How many recorded individuals are female F and male M?"
   ]
  },
  {
   "cell_type": "code",
   "execution_count": null,
   "id": "09c352e6",
   "metadata": {},
   "outputs": [],
   "source": []
  },
  {
   "cell_type": "code",
   "execution_count": null,
   "id": "4db038c3-6e11-4a44-9e45-d9f3c3db9230",
   "metadata": {
    "tags": []
   },
   "outputs": [],
   "source": [
    "# What happens when you group by two columns using the following syntax and then calculate mean values?\n",
    "grouped_data2 = surveys_df.groupby(['plot_id', 'sex'])\n",
    "grouped_data2.mean(numeric_only=True)\n"
   ]
  },
  {
   "cell_type": "markdown",
   "id": "8fc17db4-b59d-48e1-a675-10c40cc228fc",
   "metadata": {},
   "source": [
    "Summarize weight values for each site (plot_id) in your data. \n",
    "\n",
    "HINT: you can use the following syntax to only create summary statistics for one column in your data: by_site['weight'].describe()\n"
   ]
  },
  {
   "cell_type": "markdown",
   "id": "7a803c0f-00d4-4082-b7b6-6f1cacac3711",
   "metadata": {},
   "source": [
    "### Creating Summary Counts in Pandas"
   ]
  },
  {
   "cell_type": "code",
   "execution_count": null,
   "id": "7ee56ac6-61f3-4072-8b2d-dcec4b500f3b",
   "metadata": {
    "tags": []
   },
   "outputs": [],
   "source": [
    "# Count the number of samples by species\n",
    "species_counts = surveys_df.groupby( 'species_id')['record_id'].count()\n",
    "species_counts\n"
   ]
  },
  {
   "cell_type": "code",
   "execution_count": null,
   "id": "81235e1e-307c-4d24-ad4e-7961f78f0a72",
   "metadata": {
    "tags": []
   },
   "outputs": [],
   "source": [
    "# also count just the rows that have the species “DO”\n",
    "surveys_df.groupby('species_id')['record_id'].count()['DO']"
   ]
  },
  {
   "cell_type": "markdown",
   "id": "632e8728-11ad-4ad5-aee1-d6713e2e5fc3",
   "metadata": {},
   "source": [
    "### Basic Plots with Pandas"
   ]
  },
  {
   "cell_type": "code",
   "execution_count": null,
   "id": "d33a73cd-151c-44d7-ba75-87db138ab78b",
   "metadata": {
    "tags": []
   },
   "outputs": [],
   "source": [
    "# Look at how many animals were captured in each site\n",
    "total_count = surveys_df.groupby('plot_id')['record_id'].nunique()\n",
    "\n",
    "# Let's plot it!\n",
    "total_count.plot(kind='bar')"
   ]
  },
  {
   "cell_type": "markdown",
   "id": "e5f31484-edb7-4e6a-b1a1-256bf39555f7",
   "metadata": {},
   "source": [
    "Exercise: Plotting with Pandas\n",
    "1. Create a plot of average weight across all species per site.\n",
    "2. Create a plot of total males versus total females for the entire dataset."
   ]
  },
  {
   "cell_type": "markdown",
   "id": "e3710d05-f784-42dc-aa89-cd48a2164ee7",
   "metadata": {},
   "source": [
    "# Indexing, Slicing and Subsetting"
   ]
  },
  {
   "cell_type": "code",
   "execution_count": null,
   "id": "9e6fdc8e-f8bd-4303-9896-9ec9c1e61775",
   "metadata": {
    "tags": []
   },
   "outputs": [],
   "source": [
    "# Data Selection\n",
    "\n",
    "# Method 1: select a 'subset' of the data using the column name\n",
    "surveys_df['species_id']\n",
    "\n",
    "# Method 2: use the column name as an 'attribute'; gives the same output\n",
    "surveys_df.species_id"
   ]
  },
  {
   "cell_type": "code",
   "execution_count": null,
   "id": "26cbccee-fa52-4b6b-b9c9-d766d138e5e1",
   "metadata": {},
   "outputs": [],
   "source": [
    "# Create an object, surveys_species, that only contains the `species_id` column\n",
    "surveys_species = surveys_df['species_id']\n"
   ]
  },
  {
   "cell_type": "code",
   "execution_count": null,
   "id": "3a968a42-b440-4d69-8742-49fbac187b57",
   "metadata": {},
   "outputs": [],
   "source": [
    "# Select the species and plot columns from the DataFrame\n",
    "surveys_df[['species_id', 'plot_id']]\n",
    "\n",
    "#  What happens when you flip the order?"
   ]
  },
  {
   "cell_type": "markdown",
   "id": "f49b142e-499a-4a89-be48-22d61c8f96cc",
   "metadata": {},
   "source": [
    "### Slicing Subsets of Rows\n",
    "\n",
    "'[ ]' operator selects a set of rows and/or columns from a DataFrame\n",
    "\n",
    "data[start:stop], start included, stops one step before end"
   ]
  },
  {
   "cell_type": "code",
   "execution_count": null,
   "id": "08dc5b31-3a0a-4f50-bb21-d093cfd483ba",
   "metadata": {
    "tags": []
   },
   "outputs": [],
   "source": [
    "# Select rows 0, 1, 2 (row 3 is not selected)\n",
    "surveys_df[0:3]"
   ]
  },
  {
   "cell_type": "code",
   "execution_count": null,
   "id": "cce15475-8ca9-49a7-bd52-f4dfef7b2fa7",
   "metadata": {
    "tags": []
   },
   "outputs": [],
   "source": [
    "# Select the first 5 rows (rows 0, 1, 2, 3, 4)\n",
    "surveys_df[:5]"
   ]
  },
  {
   "cell_type": "code",
   "execution_count": null,
   "id": "30dd6fc4-8358-42c8-b381-877211853f7e",
   "metadata": {
    "tags": []
   },
   "outputs": [],
   "source": [
    "# Select the last element in the list\n",
    "# (the slice starts at the last element, and ends at the end of the list)\n",
    "surveys_df[-1:]"
   ]
  },
  {
   "cell_type": "markdown",
   "id": "646946b6-3ae3-4cf1-b627-3c47c2ec988e",
   "metadata": {},
   "source": [
    "NOTE: Dateframes require a range selection \n",
    "surveys_df[0] will not work, instead use surveys_df.loc[0]"
   ]
  },
  {
   "cell_type": "markdown",
   "id": "31f6b7ec-765d-4146-994f-a737e1189c5f",
   "metadata": {},
   "source": [
    "### Copying Objects vs Referencing Objects\n"
   ]
  },
  {
   "cell_type": "code",
   "execution_count": null,
   "id": "28c23b74-f61d-404c-a29d-5e6aca8309e2",
   "metadata": {
    "tags": []
   },
   "outputs": [],
   "source": [
    "# Using the 'copy() method\n",
    "true_copy_surveys_df = surveys_df.copy()\n",
    "# Using the '=' operator\n",
    "ref_surveys_df = surveys_df\n",
    "# Assign the value `0` to the first three rows of data in the DataFrame\n",
    "ref_surveys_df[0:3] = 0\n",
    "# ref_surveys_df was created using the '=' operator\n",
    "ref_surveys_df.head()\n",
    "# surveys_df is the original dataframe\n",
    "surveys_df.head()\n",
    "# Reset surveys_df\n",
    "surveys_df = pd.read_csv(\"data/surveys.csv\")"
   ]
  },
  {
   "cell_type": "markdown",
   "id": "fb22492a-3431-4f24-9b7b-9bb2e7550791",
   "metadata": {},
   "source": [
    "### Slicing Subsets of Rows and Columns\n",
    "\n",
    "'loc' is primarily *label* based indexing \n",
    "\n",
    "Integers may be used but they are interpreted as a label\n",
    "\n",
    "#data.loc[list (or range),[column ids] (or ‘:’ for all cols)]\n",
    "\n"
   ]
  },
  {
   "cell_type": "code",
   "execution_count": null,
   "id": "5a1a5d6c-8730-41fd-8e25-c55a48138128",
   "metadata": {
    "tags": []
   },
   "outputs": [],
   "source": [
    "# Select all columns for rows of index values 0 and 10\n",
    "surveys_df.loc[[0, 10], :]"
   ]
  },
  {
   "cell_type": "markdown",
   "id": "9940e479-5283-4891-9607-8044aafd902d",
   "metadata": {},
   "source": [
    "iloc is primarily *integer* based indexing\n",
    "\n",
    "data.iloc[row slicing, column slicing]\n"
   ]
  },
  {
   "cell_type": "code",
   "execution_count": null,
   "id": "16645cac-ec30-41fc-802a-1298e35bb78a",
   "metadata": {
    "tags": []
   },
   "outputs": [],
   "source": [
    "# Return the first 3 rows and columns 2-5\n",
    "surveys_df.iloc[0:3, 1:4]"
   ]
  },
  {
   "cell_type": "markdown",
   "id": "9ae69191-92d8-4196-af44-2dd21db43085",
   "metadata": {},
   "source": [
    "## Exercise: Ranges Experimentation\n",
    "What happens when you execute:"
   ]
  },
  {
   "cell_type": "code",
   "execution_count": null,
   "id": "ed56a499-7f89-4d0f-9413-8e221101bb79",
   "metadata": {
    "tags": []
   },
   "outputs": [],
   "source": [
    "# surveys_df[0:1]\n",
    "# surveys_df[:4]\n",
    "# surveys_df[:-1]\n",
    "\n",
    "# surveys_df.iloc[0:4, 1:4]\n",
    "#surveys_df.loc[0:4, 1:4]\n"
   ]
  },
  {
   "cell_type": "markdown",
   "id": "b5049b08-839c-4669-ad7c-4bdcf94f1ae5",
   "metadata": {},
   "source": [
    "### Subsetting Data using Criteria"
   ]
  },
  {
   "cell_type": "code",
   "execution_count": null,
   "id": "e8491e39-b0ec-42ff-8f3a-b5dffc7d722d",
   "metadata": {},
   "outputs": [],
   "source": [
    "#select all rows that have a year value of 2002\n",
    "surveys_df[surveys_df.year == 2002]\n",
    "\n",
    "#select all rows that do not have a year value of 2002\n",
    "surveys_df[surveys_df.year != 2002]"
   ]
  },
  {
   "cell_type": "code",
   "execution_count": null,
   "id": "68775ffe-49ec-4798-b348-8a886e39b88d",
   "metadata": {
    "tags": []
   },
   "outputs": [],
   "source": [
    "# using and '&'\n",
    "surveys_df[(surveys_df.year >= 1980) & (surveys_df.year <= 1985)]"
   ]
  },
  {
   "cell_type": "code",
   "execution_count": null,
   "id": "0ea5d46d",
   "metadata": {},
   "outputs": [],
   "source": [
    "# use the isin command in Python to query a DataFrame based upon a list of values\n",
    "surveys_df[surveys_df['species_id'].isin(['NL'])]\n",
    "#'~' symbol in Python can be used to return the OPPOSITE of the selection \n",
    "# e.g surveys_df[~surveys_df['species_id'].isin(['NL'])]\n",
    "# Note '|' used for or"
   ]
  },
  {
   "cell_type": "markdown",
   "id": "36c11e7a-ad68-4c0d-8267-24af579fb486",
   "metadata": {},
   "source": [
    "Exercise: Queries\n",
    "1. Select a subset of rows in the surveys_df DataFrame that contain data from the year 1999 and that contain weight values less than or equal to 8. How many rows did you end up with?\n",
    "1. Create a query that finds all rows with a weight value > or equal to 0.\n",
    "1. Use the isin method to find all plots that contain 'NL' and 'DM'  species in the “surveys” DataFrame. How many records contain these values?\n",
    "1. Write a query that selects all rows where 'sex' is NOT equal to ‘M’ or ‘F’ in the “surveys” data.\n",
    "Hint: The ~ symbol in Python can be used to return the OPPOSITE of the selection that you specify in Python. It is equivalent to is not in. \n",
    "\n"
   ]
  },
  {
   "cell_type": "markdown",
   "id": "d17cb56e-3485-491b-b0ce-b329803542dc",
   "metadata": {},
   "source": [
    "### Masks to identify a specific condition\n",
    "Masks \n",
    "* Used to locate a subset of values \n",
    "* Can either exist or not\n",
    "* For example, NaN, or “Not a Number” values\n",
    "* Creates an output object with same shape as the original object, \n",
    "but with a True or False value for each index location.\n",
    "\n",
    "Use: pd.isnull(your_dataframe_name)\n"
   ]
  },
  {
   "cell_type": "code",
   "execution_count": null,
   "id": "061c1afb-baea-4945-bba7-fed4dab400c5",
   "metadata": {
    "tags": []
   },
   "outputs": [],
   "source": [
    "# To select just the rows with NaN values, we can use the 'any()' method\n",
    "surveys_df[pd.isnull(surveys_df).any(axis=1)]\n",
    "# Note axis=1 refers to columns, using axis of 0 with dataframes wouldn't make sense"
   ]
  },
  {
   "cell_type": "code",
   "execution_count": null,
   "id": "9b2c3b5c-89bc-48f8-a7e5-ba62858bac71",
   "metadata": {
    "tags": []
   },
   "outputs": [],
   "source": [
    "# To select the rows which have null values in a specific column\n",
    "empty_weights = surveys_df[pd.isnull(surveys_df['weight'])]"
   ]
  },
  {
   "cell_type": "markdown",
   "id": "1abbf9e4-6a7d-48d2-8372-16c235158f00",
   "metadata": {},
   "source": [
    "### Exercise\n",
    "1. Create a new DataFrame that only contains observations with sex values that are not female or male. \n",
    "    * Assign each sex value in the new DataFrame to the new value of ‘x’. \n",
    "\n",
    "\n",
    "\n",
    "1. Create a new DataFrame that contains only observations that are of sex male or female and where weight values are greater than 0. \n"
   ]
  },
  {
   "cell_type": "code",
   "execution_count": null,
   "id": "f0e28bca-65fb-4358-9462-501c5316f462",
   "metadata": {},
   "outputs": [],
   "source": []
  }
 ],
 "metadata": {
  "kernelspec": {
   "display_name": "Python 3 (ipykernel)",
   "language": "python",
   "name": "python3"
  },
  "language_info": {
   "codemirror_mode": {
    "name": "ipython",
    "version": 3
   },
   "file_extension": ".py",
   "mimetype": "text/x-python",
   "name": "python",
   "nbconvert_exporter": "python",
   "pygments_lexer": "ipython3",
   "version": "3.11.5"
  }
 },
 "nbformat": 4,
 "nbformat_minor": 5
}

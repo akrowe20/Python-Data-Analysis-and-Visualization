{
 "cells": [
  {
   "cell_type": "markdown",
   "id": "c1adddae-4381-4d94-9f0c-f75015655972",
   "metadata": {},
   "source": [
    "# Python Data Visualization\n",
    "Data download:\n",
    "https://figshare.com/ndownloader/articles/1314459/versions/10\n",
    "\n",
    "\n",
    "Adapted from Data Carpentry's material:\n",
    "https://datacarpentry.org/python-ecology-lesson/07-visualization-ggplot-python.html\n",
    "\n",
    "[Accompanying Slides](https://docs.google.com/presentation/d/1Iy72RxX-J7O5kg-odqqzOw1DijCPijP9yoHmWCkvaeQ/edit?usp=drive_link)"
   ]
  },
  {
   "cell_type": "code",
   "execution_count": null,
   "id": "7eedf87b-f391-4580-aa0a-f2a3af43e9ea",
   "metadata": {
    "tags": []
   },
   "outputs": [],
   "source": [
    "import plotnine as p9 # Visualization Library\n",
    "import pandas as pd"
   ]
  },
  {
   "cell_type": "code",
   "execution_count": null,
   "id": "6135e3d0-41f2-45c4-b7f8-41cce5af13e5",
   "metadata": {
    "tags": []
   },
   "outputs": [],
   "source": [
    "# Create a graph step-by-step\n",
    "surveys_complete = pd.read_csv('data/surveys.csv')\n",
    "surveys_complete = surveys_complete.dropna()\n",
    "\n",
    "# plot the weight compared to the hindfood_length\n",
    "surveys_plot = p9.ggplot(data=surveys_complete, mapping=p9.aes(x='weight',\n",
    "y='hindfoot_length'))\n",
    "surveys_plot + p9.geom_point() # creates the plot"
   ]
  },
  {
   "cell_type": "code",
   "execution_count": null,
   "id": "18df70b8-973c-40db-96c7-70aecab758ec",
   "metadata": {
    "tags": []
   },
   "outputs": [],
   "source": [
    "# Use brackets and the '+' operator for adding elements to your plot\n",
    "surveys_plot = p9.ggplot(data=surveys_complete,\n",
    "mapping=p9.aes(x='weight', y='hindfoot_length', color='species_id'))\n",
    "(surveys_plot\n",
    "+ p9.geom_point()\n",
    "+ p9.xlab(\"Weight (g)\")\n",
    "+ p9.scale_x_log10()\n",
    "+ p9.theme_bw()\n",
    "+ p9.theme(text=p9.element_text(size=16)))"
   ]
  },
  {
   "cell_type": "code",
   "execution_count": null,
   "id": "06b6ae70-3199-41e5-96bf-7298ffbb3ebc",
   "metadata": {
    "tags": []
   },
   "outputs": [],
   "source": [
    "# boxplot\n",
    "# visualize the distribution of weight within each species_id\n",
    "surveys_plot = p9.ggplot(data=surveys_complete,\n",
    "mapping=p9.aes(x='species_id', y='weight'))\n",
    "surveys_plot + p9.geom_boxplot()"
   ]
  },
  {
   "cell_type": "code",
   "execution_count": null,
   "id": "a126bd76-4b26-4a21-8c82-b48e100c033c",
   "metadata": {
    "tags": []
   },
   "outputs": [],
   "source": [
    "# Time series line chart\n",
    "#calculate number of counts per year for each species\n",
    "yearly_counts = surveys_complete.groupby(['year',\n",
    "'species_id'])['species_id'].count()\n",
    "yearly_counts = yearly_counts.reset_index(name='counts')\n",
    "# converts Series to Dataframe\n",
    "surveys_plot = p9.ggplot(data=yearly_counts, mapping=p9.aes(x='year',\n",
    "y='counts', color='species_id'))\n",
    "surveys_plot + p9.geom_line()"
   ]
  },
  {
   "cell_type": "markdown",
   "id": "0f6ad950-1d3e-47ea-8fa4-a340879115a5",
   "metadata": {},
   "source": [
    "### Adapt the boxplot from the previous exercise and create a bar chart\n",
    "* mapping the 'sex' variable to the color fill\n",
    "* Change the scale of the color fill by providing the colors blue and orange\n",
    "manually (see [API](https://plotnine.org/reference/) reference to find the appropriate function)."
   ]
  },
  {
   "cell_type": "code",
   "execution_count": null,
   "id": "aa0c6b06-9b29-434f-bb84-b9e9e5bb60a1",
   "metadata": {},
   "outputs": [],
   "source": []
  },
  {
   "cell_type": "markdown",
   "id": "931d731d-91c4-4863-8862-6ae0823cc888",
   "metadata": {},
   "source": [
    "## Split plots"
   ]
  },
  {
   "cell_type": "code",
   "execution_count": null,
   "id": "cb9379a8-5f35-472d-b9bb-48a1b43546a8",
   "metadata": {
    "tags": []
   },
   "outputs": [],
   "source": [
    "# 'facet_wrap' extracts plots into an arbitrary number of dimensions to allow them to cleanly fit on one page\n",
    "\n",
    "# plot the weight compared to the hindfood_length for each location\n",
    "surveys_plot = p9.ggplot(data=surveys_complete,\n",
    "mapping=p9.aes(x='weight', y='hindfoot_length', color='species_id'))\n",
    "surveys_plot + p9.geom_point(alpha=0.1) + p9.facet_wrap(\"plot_id\")"
   ]
  },
  {
   "cell_type": "code",
   "execution_count": null,
   "id": "f18d1cb1-0cd3-4595-a1e2-fd3d7db8d275",
   "metadata": {
    "tags": []
   },
   "outputs": [],
   "source": [
    "# To specify how you want your plots to be arranged uses formula notation (rows ~ columns)\n",
    "# A '.' can be used as a placeholder that indicates only one row or column) e.g \"year ~ .\"\n",
    "\n",
    "# select years 2001 and 2002 and plot weight vs hindfoot_length separated by year and sex\n",
    "survey_2000_2001 =surveys_complete[surveys_complete[\"year\"].isin([2000, 2001])]\n",
    "surveys_plot = p9.ggplot(data=survey_2000_2001,\n",
    "mapping=p9.aes(x='weight', y='hindfoot_length',\n",
    "color='species_id'))\n",
    "surveys_plot + p9.geom_point(alpha=0.1) + p9.facet_grid(\"year ~ sex\")"
   ]
  },
  {
   "cell_type": "markdown",
   "id": "a4c61a91-778b-4e03-b126-2485d3e64713",
   "metadata": {
    "tags": []
   },
   "source": [
    "### Further Vizualization Customizations"
   ]
  },
  {
   "cell_type": "code",
   "execution_count": null,
   "id": "3f55b91b-ae3c-4c9c-a0de-6d8697e2f14d",
   "metadata": {
    "tags": []
   },
   "outputs": [],
   "source": [
    "# Change text angle\n",
    "surveys_plot = p9.ggplot(data=surveys_complete,\n",
    "mapping=p9.aes(x='factor(year)'))\n",
    "surveys_plot + p9.geom_bar()\n",
    "surveys_plot + p9.geom_bar() + p9.theme_bw() + p9.theme(axis_text_x = p9.element_text(angle=90))"
   ]
  },
  {
   "cell_type": "code",
   "execution_count": null,
   "id": "952eb202-cf63-4c64-a211-e05ebb1a4545",
   "metadata": {
    "tags": []
   },
   "outputs": [],
   "source": [
    "# Use a custom theme and categorical variable with 'factor' function\n",
    "my_custom_theme = p9.theme(axis_text_x = p9.element_text(color=\"grey\", size=10, angle=90, hjust=.5), axis_text_y = p9.element_text(color=\"grey\", size=10))\n",
    "surveys_plot = p9.ggplot(data=surveys_complete,mapping=p9.aes(x='factor(year)'))\n",
    "surveys_plot + p9.geom_bar() + my_custom_theme"
   ]
  },
  {
   "cell_type": "code",
   "execution_count": null,
   "id": "101f643b-5270-4f6b-8da5-4d47f1d3d21d",
   "metadata": {
    "tags": []
   },
   "outputs": [],
   "source": [
    "# Saving plots\n",
    "my_plot = (p9.ggplot(data=surveys_complete, mapping=p9.aes(x='weight', y='hindfoot_length', color='species_id')) + p9.geom_point())\n",
    "my_plot.save(\"my_bar_graph.png\", width=10, height=10, dpi=300) "
   ]
  },
  {
   "cell_type": "markdown",
   "id": "7a12e789-8401-40a9-bfcd-8f6436f4005c",
   "metadata": {},
   "source": [
    "## matplotlib"
   ]
  },
  {
   "cell_type": "code",
   "execution_count": null,
   "id": "9a005ce2-e14a-4819-8145-8c90f4144067",
   "metadata": {
    "tags": []
   },
   "outputs": [],
   "source": [
    "import matplotlib.pyplot as plt\n",
    "import pandas as pd\n",
    "\n",
    "\n",
    "surveys_complete = pd.read_csv('data/surveys.csv')\n",
    "surveys_complete = surveys_complete.dropna()\n",
    "\n",
    "\n",
    "x = surveys_complete.weight\n",
    "y = surveys_complete.hindfoot_length\n",
    "surveys_plot_plt = plt.scatter(x, y, s =10, c='black')\n",
    "plt.show()\n"
   ]
  },
  {
   "cell_type": "code",
   "execution_count": null,
   "id": "0ee14dde-55f4-4dc6-88e6-69d2e69c537f",
   "metadata": {
    "tags": []
   },
   "outputs": [],
   "source": [
    "# Category-wise coloring\n",
    "import numpy as np\n",
    "labels, index = np.unique(surveys_complete.species_id, return_inverse=True)\n",
    "# Now we apply the indices to the data points:\n",
    "surveys_plot_plt = plt.scatter(x, y, s =10, c=index)\n",
    "#You can let the legend() function to handle the coloring and specify where you want the legend to appear, and appearance of the legend box:\n",
    "plt.legend(surveys_plot_plt.legend_elements(num=None)[0], labels, ncol=6, loc='upper left', bbox_to_anchor=(-0.05, 1.15))\n",
    "#Add other aspects such as x-label title, applying log scale to x-axis etc.\n",
    "plt.xlabel(\"Weight (g)\")\n",
    "plt.xscale(\"log\")\n",
    "plt.show()\n"
   ]
  },
  {
   "cell_type": "code",
   "execution_count": null,
   "id": "4b9dd8eb-7674-40d9-a337-cd8562835b80",
   "metadata": {
    "tags": []
   },
   "outputs": [],
   "source": [
    "# Boxplots with matplotlib\n",
    "data=[]\n",
    "labels=[]\n",
    "for element in np.unique(surveys_complete.species_id):\n",
    "   data.append(surveys_complete.loc[surveys_complete['species_id'] == element, 'weight'].to_numpy())\n",
    "   labels.append(element)\n",
    "   \n",
    "plt.boxplot(data, labels=labels)#additional arguments can be provided to control whisker and box width, marker size, shape, color, opacity etc.\n",
    "plt.xlabel(\"Species ID\")\n",
    "plt.ylabel(\"weight distribution\")\n",
    "\n",
    "\n",
    "plt.show()\n"
   ]
  }
 ],
 "metadata": {
  "kernelspec": {
   "display_name": "Python 3 (ipykernel)",
   "language": "python",
   "name": "python3"
  },
  "language_info": {
   "codemirror_mode": {
    "name": "ipython",
    "version": 3
   },
   "file_extension": ".py",
   "mimetype": "text/x-python",
   "name": "python",
   "nbconvert_exporter": "python",
   "pygments_lexer": "ipython3",
   "version": "3.11.5"
  }
 },
 "nbformat": 4,
 "nbformat_minor": 5
}
